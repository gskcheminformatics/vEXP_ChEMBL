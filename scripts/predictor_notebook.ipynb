{
 "cells": [
  {
   "cell_type": "markdown",
   "metadata": {},
   "source": [
    "Notebook for setting up predictions on any of the ChEMBL models in the supplied repository"
   ]
  },
  {
   "cell_type": "code",
   "execution_count": 74,
   "metadata": {},
   "outputs": [],
   "source": [
    "import numpy as np\n",
    "import pandas as pd\n",
    "import joblib\n",
    "from rdkit import Chem\n",
    "from rdkit.Chem import AllChem\n",
    "from scripts.utils import rdkit_fpconvert_numpy, rdkit_get_physchem_descr"
   ]
  },
  {
   "cell_type": "code",
   "execution_count": null,
   "metadata": {},
   "outputs": [],
   "source": [
    "# EDIT THIS TO BE YOUR CHOSEN MODEL\n",
    "chosen_model = \"DRD1_PIC50\"\n",
    "hpo_config = \"svm\"\n",
    "smi_file = \"./example_drd_drugs.txt\"\n",
    "delimiter = \",\""
   ]
  },
  {
   "cell_type": "code",
   "execution_count": 80,
   "metadata": {},
   "outputs": [],
   "source": [
    "def import_and_setup(\n",
    "    chosen_model: str,\n",
    "    hpo_config: str,\n",
    "    smi_file: str,\n",
    "    delimiter: str\n",
    "):\n",
    "    \"\"\" Import temporal smiles file and load models\n",
    "\n",
    "    :param chosen_model: Str combination of target and pxc50 type\n",
    "    :param hpo_config: Str for model type: svm or xgb\n",
    "    :param smi_file: Str for temporal smiles file\n",
    "    :param delimiter: Str passed to pandas  \n",
    "    :requirements smi_file: \n",
    "    1) comma, tab delimited text file\n",
    "    2) smiles (upper or lower case accepted)\n",
    "    :return model.pkl, input dataframe, scaler.pkl \n",
    "    \"\"\"\n",
    "    chosen_model_path = f\"./{chosen_model}/{chosen_model}_{hpo_config}.pkl\"\n",
    "    predictor_model = joblib.load(chosen_model_path)\n",
    "    scaler = joblib.load(f\"./{chosen_model}/scalar_{chosen_model}.pkl\")\n",
    "    pred_example = pd.read_csv(smi_file, sep=delimiter)\n",
    "    pred_example.columns = [x.lower() for x in pred_example.columns]\n",
    "    return predictor_model, pred_example, scaler\n"
   ]
  },
  {
   "cell_type": "code",
   "execution_count": 82,
   "metadata": {},
   "outputs": [],
   "source": [
    "def prepare_pipeline(\n",
    "    pred_example: pd.DataFrame,\n",
    "    scaler  \n",
    "):\n",
    "    \"\"\" Prepare descriptors to be used for predictions\n",
    "    :param pred_example: Dataframe containing smiles information\n",
    "    :param scaler: Scaler model.pkl used to scale descriptors onto train scaler\n",
    "    :return scaled and combined morgan fingerprints and rdkit descriptors array \n",
    "    \"\"\"\n",
    "    # Canonicalise smiles first to standardise input\n",
    "    CanonSmiles = [Chem.CanonSmiles(smi) for smi in pred_example.smiles]\n",
    "    mols = [Chem.MolFromSmiles(smi) for smi in CanonSmiles]\n",
    "    # generate binary Morgan fingerprint with radius 2\n",
    "    fp = [AllChem.GetMorganFingerprintAsBitVect(m, 2) for m in mols]\n",
    "    # convert to numpy array\n",
    "    x = rdkit_fpconvert_numpy(fp)\n",
    "    # add to morgan FP's\n",
    "    x = np.concatenate((x, rdkit_get_physchem_descr(mols)), axis=1)\n",
    "    x = scaler.transform(x)\n",
    "    return x"
   ]
  },
  {
   "cell_type": "code",
   "execution_count": 83,
   "metadata": {},
   "outputs": [],
   "source": [
    "def predict_smiles(\n",
    "    descr: np.array,\n",
    "    pred_example: pd.DataFrame,\n",
    "    predictor_model\n",
    "):\n",
    "    \"\"\" Make predictions on descriptors and merge with original dataframe\n",
    "    :param descr: Array of descriptors for making predictions\n",
    "    :param pred_example: Original input dataframe for joining back predictions on index\n",
    "    :param predictor_model: Prediction model.pkl\n",
    "    :return Dataframe of combined predictions with original input dataframe\n",
    "    \"\"\"\n",
    "    pred_model = predictor_model.predict(descr)\n",
    "    pred_model_df = pd.DataFrame(pred_model, columns=[\"pred_class\"])\n",
    "    merged_pred_model = pd.merge(pred_model_df, pred_example, left_index=True, right_index=True)\n",
    "    return merged_pred_model"
   ]
  },
  {
   "cell_type": "markdown",
   "metadata": {},
   "source": [
    "Example Drug Compounds that hit DRD1 and DRD2"
   ]
  },
  {
   "cell_type": "code",
   "execution_count": 88,
   "metadata": {},
   "outputs": [],
   "source": [
    "predictor_model, pred_example, scaler = import_and_setup(chosen_model, hpo_config, smi_file, delimiter)\n",
    "descr = prepare_pipeline(pred_example, scaler)\n",
    "predictions = predict_smiles(descr, pred_example, predictor_model)"
   ]
  },
  {
   "cell_type": "code",
   "execution_count": 89,
   "metadata": {},
   "outputs": [
    {
     "data": {
      "text/html": [
       "<div>\n",
       "<style scoped>\n",
       "    .dataframe tbody tr th:only-of-type {\n",
       "        vertical-align: middle;\n",
       "    }\n",
       "\n",
       "    .dataframe tbody tr th {\n",
       "        vertical-align: top;\n",
       "    }\n",
       "\n",
       "    .dataframe thead th {\n",
       "        text-align: right;\n",
       "    }\n",
       "</style>\n",
       "<table border=\"1\" class=\"dataframe\">\n",
       "  <thead>\n",
       "    <tr style=\"text-align: right;\">\n",
       "      <th></th>\n",
       "      <th>pred_class</th>\n",
       "      <th>smiles</th>\n",
       "      <th>id</th>\n",
       "    </tr>\n",
       "  </thead>\n",
       "  <tbody>\n",
       "    <tr>\n",
       "      <th>0</th>\n",
       "      <td>0</td>\n",
       "      <td>[H][C@]12C[C@@H](C(=O)N(CCCN(C)C)C(=O)NCC)CN(C...</td>\n",
       "      <td>Cabergoline</td>\n",
       "    </tr>\n",
       "    <tr>\n",
       "      <th>1</th>\n",
       "      <td>1</td>\n",
       "      <td>CN(C)CCCN1c2ccccc2Sc2ccc(Cl)cc21</td>\n",
       "      <td>Chlorpromazine</td>\n",
       "    </tr>\n",
       "  </tbody>\n",
       "</table>\n",
       "</div>"
      ],
      "text/plain": [
       "   pred_class                                             smiles  \\\n",
       "0           0  [H][C@]12C[C@@H](C(=O)N(CCCN(C)C)C(=O)NCC)CN(C...   \n",
       "1           1                   CN(C)CCCN1c2ccccc2Sc2ccc(Cl)cc21   \n",
       "\n",
       "               id  \n",
       "0     Cabergoline  \n",
       "1  Chlorpromazine  "
      ]
     },
     "execution_count": 89,
     "metadata": {},
     "output_type": "execute_result"
    }
   ],
   "source": [
    "predictions"
   ]
  },
  {
   "cell_type": "code",
   "execution_count": 68,
   "metadata": {},
   "outputs": [],
   "source": [
    "# EDIT THIS TO BE YOUR CHOSEN MODEL\n",
    "chosen_model = \"DRD2_PIC50\"\n",
    "hpo_config = \"svm\"\n",
    "smi_file = \"./example_drd_drugs.txt\"\n",
    "delimiter = \",\"\n",
    "predictor_model, pred_example, scaler = import_and_setup(chosen_model, hpo_config, smi_file, delimiter)\n",
    "descr = prepare_pipeline(pred_example, scaler)\n",
    "predictions = predict_smiles(descr, pred_example, predictor_model)"
   ]
  },
  {
   "cell_type": "code",
   "execution_count": 69,
   "metadata": {},
   "outputs": [
    {
     "data": {
      "text/html": [
       "<div>\n",
       "<style scoped>\n",
       "    .dataframe tbody tr th:only-of-type {\n",
       "        vertical-align: middle;\n",
       "    }\n",
       "\n",
       "    .dataframe tbody tr th {\n",
       "        vertical-align: top;\n",
       "    }\n",
       "\n",
       "    .dataframe thead th {\n",
       "        text-align: right;\n",
       "    }\n",
       "</style>\n",
       "<table border=\"1\" class=\"dataframe\">\n",
       "  <thead>\n",
       "    <tr style=\"text-align: right;\">\n",
       "      <th></th>\n",
       "      <th>pred_class</th>\n",
       "      <th>smiles</th>\n",
       "      <th>id</th>\n",
       "    </tr>\n",
       "  </thead>\n",
       "  <tbody>\n",
       "    <tr>\n",
       "      <th>0</th>\n",
       "      <td>1</td>\n",
       "      <td>[H][C@]12C[C@@H](C(=O)N(CCCN(C)C)C(=O)NCC)CN(C...</td>\n",
       "      <td>Cabergoline</td>\n",
       "    </tr>\n",
       "    <tr>\n",
       "      <th>1</th>\n",
       "      <td>1</td>\n",
       "      <td>CN(C)CCCN1c2ccccc2Sc2ccc(Cl)cc21</td>\n",
       "      <td>Chlorpromazine</td>\n",
       "    </tr>\n",
       "  </tbody>\n",
       "</table>\n",
       "</div>"
      ],
      "text/plain": [
       "   pred_class                                             smiles  \\\n",
       "0           1  [H][C@]12C[C@@H](C(=O)N(CCCN(C)C)C(=O)NCC)CN(C...   \n",
       "1           1                   CN(C)CCCN1c2ccccc2Sc2ccc(Cl)cc21   \n",
       "\n",
       "               id  \n",
       "0     Cabergoline  \n",
       "1  Chlorpromazine  "
      ]
     },
     "execution_count": 69,
     "metadata": {},
     "output_type": "execute_result"
    }
   ],
   "source": [
    "predictions"
   ]
  },
  {
   "cell_type": "markdown",
   "metadata": {},
   "source": [
    "DRD1 activity incorrectly predicted for Cabergoline but both predicted correctly for DRD2"
   ]
  },
  {
   "cell_type": "markdown",
   "metadata": {},
   "source": [
    "Example drugs that hit HRH1 or suspected to"
   ]
  },
  {
   "cell_type": "code",
   "execution_count": 70,
   "metadata": {},
   "outputs": [],
   "source": [
    "# EDIT THIS TO BE YOUR CHOSEN MODEL\n",
    "chosen_model = \"HRH1_PIC50\"\n",
    "hpo_config = \"xgb\"\n",
    "smi_file = \"./example_histamine_receptor_drugs.txt\"\n",
    "delimiter = \",\"\n",
    "predictor_model, pred_example, scaler = import_and_setup(chosen_model, hpo_config, smi_file, delimiter)\n",
    "descr = prepare_pipeline(pred_example, scaler)\n",
    "predictions = predict_smiles(descr, pred_example, predictor_model)"
   ]
  },
  {
   "cell_type": "code",
   "execution_count": 71,
   "metadata": {},
   "outputs": [
    {
     "data": {
      "text/html": [
       "<div>\n",
       "<style scoped>\n",
       "    .dataframe tbody tr th:only-of-type {\n",
       "        vertical-align: middle;\n",
       "    }\n",
       "\n",
       "    .dataframe tbody tr th {\n",
       "        vertical-align: top;\n",
       "    }\n",
       "\n",
       "    .dataframe thead th {\n",
       "        text-align: right;\n",
       "    }\n",
       "</style>\n",
       "<table border=\"1\" class=\"dataframe\">\n",
       "  <thead>\n",
       "    <tr style=\"text-align: right;\">\n",
       "      <th></th>\n",
       "      <th>pred_class</th>\n",
       "      <th>smiles</th>\n",
       "      <th>id</th>\n",
       "    </tr>\n",
       "  </thead>\n",
       "  <tbody>\n",
       "    <tr>\n",
       "      <th>0</th>\n",
       "      <td>1</td>\n",
       "      <td>[H][C@]12C[C@@H](C(=O)N(CCCN(C)C)C(=O)NCC)CN(C...</td>\n",
       "      <td>Cabergoline</td>\n",
       "    </tr>\n",
       "    <tr>\n",
       "      <th>1</th>\n",
       "      <td>1</td>\n",
       "      <td>CN(C)CCCN1c2ccccc2Sc2ccc(Cl)cc21</td>\n",
       "      <td>Chlorpromazine</td>\n",
       "    </tr>\n",
       "    <tr>\n",
       "      <th>2</th>\n",
       "      <td>1</td>\n",
       "      <td>Fc1ccc(cc1)Cn2c5ccccc5nc2NC4CCN(CCc3ccc(OC)cc3...</td>\n",
       "      <td>Astemiszole</td>\n",
       "    </tr>\n",
       "    <tr>\n",
       "      <th>3</th>\n",
       "      <td>1</td>\n",
       "      <td>Brc1ccc(cc1)C(c2ncccc2)CCN(C)C</td>\n",
       "      <td>Brompheniramine</td>\n",
       "    </tr>\n",
       "  </tbody>\n",
       "</table>\n",
       "</div>"
      ],
      "text/plain": [
       "   pred_class                                             smiles  \\\n",
       "0           1  [H][C@]12C[C@@H](C(=O)N(CCCN(C)C)C(=O)NCC)CN(C...   \n",
       "1           1                   CN(C)CCCN1c2ccccc2Sc2ccc(Cl)cc21   \n",
       "2           1  Fc1ccc(cc1)Cn2c5ccccc5nc2NC4CCN(CCc3ccc(OC)cc3...   \n",
       "3           1                     Brc1ccc(cc1)C(c2ncccc2)CCN(C)C   \n",
       "\n",
       "                id  \n",
       "0      Cabergoline  \n",
       "1   Chlorpromazine  \n",
       "2      Astemiszole  \n",
       "3  Brompheniramine  "
      ]
     },
     "execution_count": 71,
     "metadata": {},
     "output_type": "execute_result"
    }
   ],
   "source": [
    "predictions"
   ]
  },
  {
   "cell_type": "markdown",
   "metadata": {},
   "source": [
    "All of the drugs appear to be correctly predicted for HRH1 antagonism"
   ]
  },
  {
   "cell_type": "markdown",
   "metadata": {},
   "source": [
    "Investigate final list for CHRM1 activity"
   ]
  },
  {
   "cell_type": "code",
   "execution_count": 72,
   "metadata": {},
   "outputs": [],
   "source": [
    "# EDIT THIS TO BE YOUR CHOSEN MODEL\n",
    "chosen_model = \"CHRM1_PIC50\"\n",
    "hpo_config = \"xgb\"\n",
    "smi_file = \"./example_drugs.txt\"\n",
    "delimiter = \",\"\n",
    "predictor_model, pred_example, scaler = import_and_setup(chosen_model, hpo_config, smi_file, delimiter)\n",
    "descr = prepare_pipeline(pred_example, scaler)\n",
    "predictions = predict_smiles(descr, pred_example, predictor_model)"
   ]
  },
  {
   "cell_type": "code",
   "execution_count": 73,
   "metadata": {},
   "outputs": [
    {
     "data": {
      "text/html": [
       "<div>\n",
       "<style scoped>\n",
       "    .dataframe tbody tr th:only-of-type {\n",
       "        vertical-align: middle;\n",
       "    }\n",
       "\n",
       "    .dataframe tbody tr th {\n",
       "        vertical-align: top;\n",
       "    }\n",
       "\n",
       "    .dataframe thead th {\n",
       "        text-align: right;\n",
       "    }\n",
       "</style>\n",
       "<table border=\"1\" class=\"dataframe\">\n",
       "  <thead>\n",
       "    <tr style=\"text-align: right;\">\n",
       "      <th></th>\n",
       "      <th>pred_class</th>\n",
       "      <th>smiles</th>\n",
       "      <th>id</th>\n",
       "    </tr>\n",
       "  </thead>\n",
       "  <tbody>\n",
       "    <tr>\n",
       "      <th>0</th>\n",
       "      <td>1</td>\n",
       "      <td>[H][C@]12C[C@@H](C(=O)N(CCCN(C)C)C(=O)NCC)CN(C...</td>\n",
       "      <td>Cabergoline</td>\n",
       "    </tr>\n",
       "    <tr>\n",
       "      <th>1</th>\n",
       "      <td>1</td>\n",
       "      <td>CN(C)CCCN1c2ccccc2Sc2ccc(Cl)cc21</td>\n",
       "      <td>Chlorpromazine</td>\n",
       "    </tr>\n",
       "    <tr>\n",
       "      <th>2</th>\n",
       "      <td>0</td>\n",
       "      <td>Fc1ccc(cc1)Cn2c5ccccc5nc2NC4CCN(CCc3ccc(OC)cc3...</td>\n",
       "      <td>Astemiszole</td>\n",
       "    </tr>\n",
       "    <tr>\n",
       "      <th>3</th>\n",
       "      <td>0</td>\n",
       "      <td>Brc1ccc(cc1)C(c2ncccc2)CCN(C)C</td>\n",
       "      <td>Brompheniramine</td>\n",
       "    </tr>\n",
       "    <tr>\n",
       "      <th>4</th>\n",
       "      <td>0</td>\n",
       "      <td>O=C(O)/C=C\\C(O)=O.O=C(O)/C=C\\C(O)=O.CN1CC/C(CC...</td>\n",
       "      <td>Azatadine</td>\n",
       "    </tr>\n",
       "  </tbody>\n",
       "</table>\n",
       "</div>"
      ],
      "text/plain": [
       "   pred_class                                             smiles  \\\n",
       "0           1  [H][C@]12C[C@@H](C(=O)N(CCCN(C)C)C(=O)NCC)CN(C...   \n",
       "1           1                   CN(C)CCCN1c2ccccc2Sc2ccc(Cl)cc21   \n",
       "2           0  Fc1ccc(cc1)Cn2c5ccccc5nc2NC4CCN(CCc3ccc(OC)cc3...   \n",
       "3           0                     Brc1ccc(cc1)C(c2ncccc2)CCN(C)C   \n",
       "4           0  O=C(O)/C=C\\C(O)=O.O=C(O)/C=C\\C(O)=O.CN1CC/C(CC...   \n",
       "\n",
       "                id  \n",
       "0      Cabergoline  \n",
       "1   Chlorpromazine  \n",
       "2      Astemiszole  \n",
       "3  Brompheniramine  \n",
       "4        Azatadine  "
      ]
     },
     "execution_count": 73,
     "metadata": {},
     "output_type": "execute_result"
    }
   ],
   "source": [
    "predictions"
   ]
  },
  {
   "cell_type": "markdown",
   "metadata": {},
   "source": [
    "Doesn't appear to have worked as well as Azatadine and Brompheniramine were the suspected CHRM1 antagonists"
   ]
  }
 ],
 "metadata": {
  "kernelspec": {
   "display_name": "Python 3.8.13",
   "language": "python",
   "name": "python3"
  },
  "language_info": {
   "codemirror_mode": {
    "name": "ipython",
    "version": 3
   },
   "file_extension": ".py",
   "mimetype": "text/x-python",
   "name": "python",
   "nbconvert_exporter": "python",
   "pygments_lexer": "ipython3",
   "version": "3.8.13"
  },
  "orig_nbformat": 4,
  "vscode": {
   "interpreter": {
    "hash": "b2bb8ba4dbbd1922056eae260ebdf0a3570f5d6445cea652291a72b5d24d4404"
   }
  }
 },
 "nbformat": 4,
 "nbformat_minor": 2
}
