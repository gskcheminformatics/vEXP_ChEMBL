{
 "cells": [
  {
   "cell_type": "markdown",
   "id": "sweet-starter",
   "metadata": {},
   "source": [
    "# Model Building Setup for Safety Models using RdKit descriptors and ChEMBL31 data only"
   ]
  },
  {
   "cell_type": "markdown",
   "id": "geological-niagara",
   "metadata": {},
   "source": [
    "# Setup"
   ]
  },
  {
   "cell_type": "code",
   "execution_count": 1,
   "id": "18d83af2",
   "metadata": {},
   "outputs": [],
   "source": [
    "# input\n",
    "model_dir = \"AHR_PEC50\"\n",
    "data_file_name = \"./AHR_PEC50_train.tsv\"\n",
    "# output\n",
    "scalar_file_name = \"./scalar_AHR_PEC50.pkl\"\n",
    "svm_model_file = \"./AHR_PEC50_svm.pkl\"\n",
    "xgb_model_file = \"./AHR_PEC50_xgb.pkl\""
   ]
  },
  {
   "cell_type": "code",
   "execution_count": 2,
   "id": "italian-sodium",
   "metadata": {},
   "outputs": [],
   "source": [
    "from rdkit import Chem, DataStructs\n",
    "from rdkit.Chem import AllChem, Descriptors\n",
    "import numpy as np\n",
    "import pandas as pd\n",
    "import joblib\n",
    "from sklearn.svm import SVC\n",
    "import xgboost\n",
    "from sklearn.model_selection import train_test_split, StratifiedKFold, GridSearchCV\n",
    "from sklearn.preprocessing import StandardScaler\n",
    "from sklearn.metrics import accuracy_score, cohen_kappa_score, matthews_corrcoef, confusion_matrix, balanced_accuracy_score, recall_score\n",
    "from utils import rdkit_fpconvert_numpy, rdkit_get_physchem_descr\n",
    "\n",
    "seed = 1234"
   ]
  },
  {
   "cell_type": "markdown",
   "id": "dangerous-madrid",
   "metadata": {},
   "source": [
    "# Get Mols & Data then calculate descriptors"
   ]
  },
  {
   "cell_type": "code",
   "execution_count": 3,
   "id": "dramatic-wrong",
   "metadata": {},
   "outputs": [
    {
     "data": {
      "text/html": [
       "<div>\n",
       "<style scoped>\n",
       "    .dataframe tbody tr th:only-of-type {\n",
       "        vertical-align: middle;\n",
       "    }\n",
       "\n",
       "    .dataframe tbody tr th {\n",
       "        vertical-align: top;\n",
       "    }\n",
       "\n",
       "    .dataframe thead th {\n",
       "        text-align: right;\n",
       "    }\n",
       "</style>\n",
       "<table border=\"1\" class=\"dataframe\">\n",
       "  <thead>\n",
       "    <tr style=\"text-align: right;\">\n",
       "      <th></th>\n",
       "      <th>parentised_smiles</th>\n",
       "      <th>ID</th>\n",
       "      <th>class_label</th>\n",
       "    </tr>\n",
       "  </thead>\n",
       "  <tbody>\n",
       "    <tr>\n",
       "      <th>0</th>\n",
       "      <td>Brc1cc(Br)c2Oc3c(Br)cc(Br)cc3Oc2c1</td>\n",
       "      <td>chembl_15460</td>\n",
       "      <td>POSITIVE</td>\n",
       "    </tr>\n",
       "    <tr>\n",
       "      <th>1</th>\n",
       "      <td>Brc1cc(Br)c2Oc3cc(Br)c(Br)cc3Oc2c1</td>\n",
       "      <td>chembl_15569</td>\n",
       "      <td>POSITIVE</td>\n",
       "    </tr>\n",
       "    <tr>\n",
       "      <th>2</th>\n",
       "      <td>Brc1cc2Oc3c(Br)cc(Br)c(Br)c3Oc2cc1Br</td>\n",
       "      <td>chembl_15664</td>\n",
       "      <td>POSITIVE</td>\n",
       "    </tr>\n",
       "    <tr>\n",
       "      <th>3</th>\n",
       "      <td>Brc1cc2Oc3cc(Br)c(Br)c(Br)c3Oc2cc1Br</td>\n",
       "      <td>chembl_15556</td>\n",
       "      <td>POSITIVE</td>\n",
       "    </tr>\n",
       "    <tr>\n",
       "      <th>4</th>\n",
       "      <td>Brc1cc2Oc3cc(Br)c(Br)cc3Oc2cc1Br</td>\n",
       "      <td>chembl_15580</td>\n",
       "      <td>POSITIVE</td>\n",
       "    </tr>\n",
       "  </tbody>\n",
       "</table>\n",
       "</div>"
      ],
      "text/plain": [
       "                      parentised_smiles            ID class_label\n",
       "0    Brc1cc(Br)c2Oc3c(Br)cc(Br)cc3Oc2c1  chembl_15460    POSITIVE\n",
       "1    Brc1cc(Br)c2Oc3cc(Br)c(Br)cc3Oc2c1  chembl_15569    POSITIVE\n",
       "2  Brc1cc2Oc3c(Br)cc(Br)c(Br)c3Oc2cc1Br  chembl_15664    POSITIVE\n",
       "3  Brc1cc2Oc3cc(Br)c(Br)c(Br)c3Oc2cc1Br  chembl_15556    POSITIVE\n",
       "4      Brc1cc2Oc3cc(Br)c(Br)cc3Oc2cc1Br  chembl_15580    POSITIVE"
      ]
     },
     "execution_count": 3,
     "metadata": {},
     "output_type": "execute_result"
    }
   ],
   "source": [
    "df = pd.read_csv(data_file_name, sep=\"\\t\")\n",
    "df.head()"
   ]
  },
  {
   "cell_type": "code",
   "execution_count": 4,
   "id": "confident-assistant",
   "metadata": {},
   "outputs": [
    {
     "data": {
      "text/plain": [
       "class_label\n",
       "POSITIVE    130\n",
       "NEGATIVE     79\n",
       "dtype: int64"
      ]
     },
     "execution_count": 4,
     "metadata": {},
     "output_type": "execute_result"
    }
   ],
   "source": [
    "df.value_counts(\"class_label\")"
   ]
  },
  {
   "cell_type": "markdown",
   "id": "sixth-opportunity",
   "metadata": {},
   "source": [
    "## Preparing descriptors and responses now"
   ]
  },
  {
   "cell_type": "code",
   "execution_count": 5,
   "id": "gothic-milwaukee",
   "metadata": {},
   "outputs": [],
   "source": [
    "y_str = df.class_label.tolist() # convert str to list\n",
    "y_int = pd.get_dummies(y_str) # one hot encode the str labels\n",
    "y_new = y_int[\"POSITIVE\"] # set new y to one hot encoded POSITIVE label column \n",
    "df['class_label_binary'] = y_new # set new encoded label into dataframe\n",
    "y = df.class_label_binary.to_list()"
   ]
  },
  {
   "cell_type": "code",
   "execution_count": 6,
   "id": "personalized-article",
   "metadata": {},
   "outputs": [
    {
     "data": {
      "text/html": [
       "<div>\n",
       "<style scoped>\n",
       "    .dataframe tbody tr th:only-of-type {\n",
       "        vertical-align: middle;\n",
       "    }\n",
       "\n",
       "    .dataframe tbody tr th {\n",
       "        vertical-align: top;\n",
       "    }\n",
       "\n",
       "    .dataframe thead th {\n",
       "        text-align: right;\n",
       "    }\n",
       "</style>\n",
       "<table border=\"1\" class=\"dataframe\">\n",
       "  <thead>\n",
       "    <tr style=\"text-align: right;\">\n",
       "      <th></th>\n",
       "      <th>parentised_smiles</th>\n",
       "      <th>ID</th>\n",
       "      <th>class_label</th>\n",
       "      <th>class_label_binary</th>\n",
       "    </tr>\n",
       "  </thead>\n",
       "  <tbody>\n",
       "    <tr>\n",
       "      <th>0</th>\n",
       "      <td>Brc1cc(Br)c2Oc3c(Br)cc(Br)cc3Oc2c1</td>\n",
       "      <td>chembl_15460</td>\n",
       "      <td>POSITIVE</td>\n",
       "      <td>1</td>\n",
       "    </tr>\n",
       "    <tr>\n",
       "      <th>1</th>\n",
       "      <td>Brc1cc(Br)c2Oc3cc(Br)c(Br)cc3Oc2c1</td>\n",
       "      <td>chembl_15569</td>\n",
       "      <td>POSITIVE</td>\n",
       "      <td>1</td>\n",
       "    </tr>\n",
       "    <tr>\n",
       "      <th>2</th>\n",
       "      <td>Brc1cc2Oc3c(Br)cc(Br)c(Br)c3Oc2cc1Br</td>\n",
       "      <td>chembl_15664</td>\n",
       "      <td>POSITIVE</td>\n",
       "      <td>1</td>\n",
       "    </tr>\n",
       "  </tbody>\n",
       "</table>\n",
       "</div>"
      ],
      "text/plain": [
       "                      parentised_smiles            ID class_label  \\\n",
       "0    Brc1cc(Br)c2Oc3c(Br)cc(Br)cc3Oc2c1  chembl_15460    POSITIVE   \n",
       "1    Brc1cc(Br)c2Oc3cc(Br)c(Br)cc3Oc2c1  chembl_15569    POSITIVE   \n",
       "2  Brc1cc2Oc3c(Br)cc(Br)c(Br)c3Oc2cc1Br  chembl_15664    POSITIVE   \n",
       "\n",
       "   class_label_binary  \n",
       "0                   1  \n",
       "1                   1  \n",
       "2                   1  "
      ]
     },
     "execution_count": 6,
     "metadata": {},
     "output_type": "execute_result"
    }
   ],
   "source": [
    "df.head(3)"
   ]
  },
  {
   "cell_type": "code",
   "execution_count": 7,
   "id": "warming-referral",
   "metadata": {},
   "outputs": [],
   "source": [
    "mols = [Chem.MolFromSmiles(smi) for smi in df.parentised_smiles]\n",
    "# generate binary Morgan fingerprint with radius 2\n",
    "fp = [AllChem.GetMorganFingerprintAsBitVect(m, 2) for m in mols]\n",
    "# generate binary Morgan fingerprint with radius 2 with physchem as numpy array\n",
    "x = rdkit_fpconvert_numpy(fp)\n",
    "x = np.concatenate((x, rdkit_get_physchem_descr(mols)), axis=1)"
   ]
  },
  {
   "cell_type": "markdown",
   "id": "marked-blogger",
   "metadata": {},
   "source": [
    "## Scale Data and Calculate Splits"
   ]
  },
  {
   "cell_type": "code",
   "execution_count": 8,
   "id": "major-lingerie",
   "metadata": {},
   "outputs": [],
   "source": [
    "# randomly select 20% of compounds as test set but with stratified selection\n",
    "x_tr, x_ts, y_tr, y_ts = train_test_split(x, y, test_size=0.20, random_state=seed, stratify=y)"
   ]
  },
  {
   "cell_type": "markdown",
   "id": "cardiovascular-allah",
   "metadata": {},
   "source": [
    "### Investigate size of splits to confirm"
   ]
  },
  {
   "cell_type": "code",
   "execution_count": 9,
   "id": "positive-champagne",
   "metadata": {},
   "outputs": [
    {
     "data": {
      "text/plain": [
       "(167, 167, 42, 42)"
      ]
     },
     "execution_count": 9,
     "metadata": {},
     "output_type": "execute_result"
    }
   ],
   "source": [
    "len(y_tr), len(x_tr), len(x_ts), len(y_ts)"
   ]
  },
  {
   "cell_type": "code",
   "execution_count": 10,
   "id": "seventh-folder",
   "metadata": {},
   "outputs": [],
   "source": [
    "scale = StandardScaler().fit(x_tr)\n",
    "x_tr = scale.transform(x_tr)\n",
    "# scale descriptors of the test set compounds\n",
    "x_ts = scale.transform(x_ts)"
   ]
  },
  {
   "cell_type": "code",
   "execution_count": 11,
   "id": "deluxe-rover",
   "metadata": {},
   "outputs": [
    {
     "data": {
      "text/plain": [
       "['./scalar_AHR_PEC50.pkl']"
      ]
     },
     "execution_count": 11,
     "metadata": {},
     "output_type": "execute_result"
    }
   ],
   "source": [
    "# save scalar\n",
    "joblib.dump(scale, \n",
    "            scalar_file_name, \n",
    "            compress=3)"
   ]
  },
  {
   "cell_type": "code",
   "execution_count": 12,
   "id": "increased-float",
   "metadata": {},
   "outputs": [],
   "source": [
    "# cross validation splits\n",
    "cv = StratifiedKFold(n_splits=5)"
   ]
  },
  {
   "cell_type": "markdown",
   "id": "saving-iceland",
   "metadata": {},
   "source": [
    "# SVM Model"
   ]
  },
  {
   "cell_type": "markdown",
   "id": "combined-share",
   "metadata": {},
   "source": [
    "Search for optimal tuning parameters and build the model"
   ]
  },
  {
   "cell_type": "code",
   "execution_count": 13,
   "id": "expanded-surfing",
   "metadata": {},
   "outputs": [],
   "source": [
    "# create grid search dictionary\n",
    "param_grid = {\"C\": [10 ** i for i in range(0, 5)],\n",
    "              \"gamma\": [10 ** i for i in range(-6, 0)]}"
   ]
  },
  {
   "cell_type": "code",
   "execution_count": 14,
   "id": "pressing-lexington",
   "metadata": {},
   "outputs": [],
   "source": [
    "# setup model building\n",
    "svm = GridSearchCV(SVC(kernel='rbf', probability=True), param_grid, n_jobs=2, cv=cv, verbose=1)"
   ]
  },
  {
   "cell_type": "code",
   "execution_count": 15,
   "id": "extra-resolution",
   "metadata": {},
   "outputs": [
    {
     "name": "stdout",
     "output_type": "stream",
     "text": [
      "Fitting 5 folds for each of 30 candidates, totalling 150 fits\n"
     ]
    },
    {
     "data": {
      "text/plain": [
       "GridSearchCV(cv=StratifiedKFold(n_splits=5, random_state=None, shuffle=False),\n",
       "             estimator=SVC(probability=True), n_jobs=2,\n",
       "             param_grid={'C': [1, 10, 100, 1000, 10000],\n",
       "                         'gamma': [1e-06, 1e-05, 0.0001, 0.001, 0.01, 0.1]},\n",
       "             verbose=1)"
      ]
     },
     "execution_count": 15,
     "metadata": {},
     "output_type": "execute_result"
    }
   ],
   "source": [
    "# run model building\n",
    "svm.fit(x_tr, y_tr)"
   ]
  },
  {
   "cell_type": "code",
   "execution_count": 16,
   "id": "liberal-helping",
   "metadata": {},
   "outputs": [
    {
     "data": {
      "text/plain": [
       "0.6285204991087345"
      ]
     },
     "execution_count": 16,
     "metadata": {},
     "output_type": "execute_result"
    }
   ],
   "source": [
    "svm.best_score_"
   ]
  },
  {
   "cell_type": "code",
   "execution_count": 17,
   "id": "extensive-ideal",
   "metadata": {},
   "outputs": [
    {
     "data": {
      "text/plain": [
       "{'C': 100, 'gamma': 1e-05}"
      ]
     },
     "execution_count": 17,
     "metadata": {},
     "output_type": "execute_result"
    }
   ],
   "source": [
    "svm.best_params_"
   ]
  },
  {
   "cell_type": "code",
   "execution_count": 18,
   "id": "congressional-translation",
   "metadata": {},
   "outputs": [
    {
     "data": {
      "text/plain": [
       "['./AHR_PEC50_svm.pkl']"
      ]
     },
     "execution_count": 18,
     "metadata": {},
     "output_type": "execute_result"
    }
   ],
   "source": [
    "# save model\n",
    "joblib.dump(svm, \n",
    "            svm_model_file,\n",
    "            compress=3)"
   ]
  },
  {
   "cell_type": "markdown",
   "id": "municipal-photographer",
   "metadata": {},
   "source": [
    "# Test Set Validation"
   ]
  },
  {
   "cell_type": "code",
   "execution_count": 19,
   "id": "every-restaurant",
   "metadata": {},
   "outputs": [],
   "source": [
    "# predict for the test set compounds\n",
    "pred_svm = svm.predict(x_ts)"
   ]
  },
  {
   "cell_type": "code",
   "execution_count": 20,
   "id": "dense-bangladesh",
   "metadata": {},
   "outputs": [
    {
     "name": "stdout",
     "output_type": "stream",
     "text": [
      "Accuracy =  0.7380952380952381\n",
      "Balanced Accuracy Score =  0.6802884615384616\n",
      "MCC =  0.4267429637493243\n",
      "Kappa =  0.39370078740157477\n",
      "Recall =  0.9230769230769231\n",
      "Performance reported as average of matthews and recall is 0.6749099434131237\n"
     ]
    }
   ],
   "source": [
    "# calc statistics\n",
    "print(\"Accuracy = \", accuracy_score(y_ts, pred_svm))\n",
    "print(\"Balanced Accuracy Score = \", balanced_accuracy_score(y_ts, pred_svm))\n",
    "print(\"MCC = \", matthews_corrcoef(y_ts, pred_svm))\n",
    "print(\"Kappa = \", cohen_kappa_score(y_ts, pred_svm))\n",
    "print(\"Recall = \", recall_score(y_ts, pred_svm))\n",
    "print(\"Performance reported as average of matthews and recall is\", (((matthews_corrcoef(y_ts, pred_svm))+(recall_score(y_ts, pred_svm)))/2))"
   ]
  },
  {
   "cell_type": "code",
   "execution_count": 21,
   "id": "photographic-auckland",
   "metadata": {},
   "outputs": [
    {
     "data": {
      "text/plain": [
       "array([[ 7,  9],\n",
       "       [ 2, 24]])"
      ]
     },
     "execution_count": 21,
     "metadata": {},
     "output_type": "execute_result"
    }
   ],
   "source": [
    "# confusion matrix\n",
    "confusion_matrix(y_ts, pred_svm)"
   ]
  },
  {
   "cell_type": "code",
   "execution_count": 22,
   "id": "comfortable-square",
   "metadata": {},
   "outputs": [
    {
     "data": {
      "text/plain": [
       "(7, 9, 2, 24)"
      ]
     },
     "execution_count": 22,
     "metadata": {},
     "output_type": "execute_result"
    }
   ],
   "source": [
    "tn, fp, fn, tp = confusion_matrix(y_ts, pred_svm).ravel()\n",
    "tn, fp, fn, tp"
   ]
  },
  {
   "cell_type": "markdown",
   "id": "b5ac5546",
   "metadata": {},
   "source": [
    "# XGB Model"
   ]
  },
  {
   "cell_type": "code",
   "execution_count": 23,
   "id": "ee9d7d0e",
   "metadata": {},
   "outputs": [],
   "source": [
    "# create grid search dictionary\n",
    "param_grid = {\"max_depth\": [i for i in range(2, 8)],\n",
    "              \"n_estimators\": [i for i in [10, 30, 50, 100]],\n",
    "              \"learning_rate\": [i for i in [0.01, 0.05, 0.1]]}"
   ]
  },
  {
   "cell_type": "code",
   "execution_count": 24,
   "id": "9846cad5",
   "metadata": {},
   "outputs": [],
   "source": [
    "# setup model building\n",
    "xgb = GridSearchCV(xgboost.XGBClassifier(base_score=0.5), param_grid, n_jobs=2, cv=cv, verbose=1)"
   ]
  },
  {
   "cell_type": "code",
   "execution_count": 25,
   "id": "8caa98cd",
   "metadata": {},
   "outputs": [
    {
     "name": "stdout",
     "output_type": "stream",
     "text": [
      "Fitting 5 folds for each of 72 candidates, totalling 360 fits\n"
     ]
    },
    {
     "data": {
      "text/plain": [
       "GridSearchCV(cv=StratifiedKFold(n_splits=5, random_state=None, shuffle=False),\n",
       "             estimator=XGBClassifier(base_score=0.5, booster=None,\n",
       "                                     callbacks=None, colsample_bylevel=None,\n",
       "                                     colsample_bynode=None,\n",
       "                                     colsample_bytree=None,\n",
       "                                     early_stopping_rounds=None,\n",
       "                                     enable_categorical=False, eval_metric=None,\n",
       "                                     feature_types=None, gamma=None,\n",
       "                                     gpu_id=None, grow_policy=None,\n",
       "                                     importance_t...\n",
       "                                     max_cat_threshold=None,\n",
       "                                     max_cat_to_onehot=None,\n",
       "                                     max_delta_step=None, max_depth=None,\n",
       "                                     max_leaves=None, min_child_weight=None,\n",
       "                                     missing=nan, monotone_constraints=None,\n",
       "                                     n_estimators=100, n_jobs=None,\n",
       "                                     num_parallel_tree=None, predictor=None,\n",
       "                                     random_state=None, ...),\n",
       "             n_jobs=2,\n",
       "             param_grid={'learning_rate': [0.01, 0.05, 0.1],\n",
       "                         'max_depth': [2, 3, 4, 5, 6, 7],\n",
       "                         'n_estimators': [10, 30, 50, 100]},\n",
       "             verbose=1)"
      ]
     },
     "execution_count": 25,
     "metadata": {},
     "output_type": "execute_result"
    }
   ],
   "source": [
    "# run model building\n",
    "xgb.fit(x_tr, y_tr)"
   ]
  },
  {
   "cell_type": "code",
   "execution_count": 26,
   "id": "26e55dde",
   "metadata": {},
   "outputs": [
    {
     "data": {
      "text/plain": [
       "0.6768270944741535"
      ]
     },
     "execution_count": 26,
     "metadata": {},
     "output_type": "execute_result"
    }
   ],
   "source": [
    "xgb.best_score_"
   ]
  },
  {
   "cell_type": "code",
   "execution_count": 27,
   "id": "f27b72ee",
   "metadata": {},
   "outputs": [
    {
     "data": {
      "text/plain": [
       "{'learning_rate': 0.05, 'max_depth': 2, 'n_estimators': 10}"
      ]
     },
     "execution_count": 27,
     "metadata": {},
     "output_type": "execute_result"
    }
   ],
   "source": [
    "xgb.best_params_"
   ]
  },
  {
   "cell_type": "code",
   "execution_count": 28,
   "id": "6723e382",
   "metadata": {},
   "outputs": [
    {
     "data": {
      "text/plain": [
       "['./AHR_PEC50_xgb.pkl']"
      ]
     },
     "execution_count": 28,
     "metadata": {},
     "output_type": "execute_result"
    }
   ],
   "source": [
    "# save model\n",
    "joblib.dump(xgb, \n",
    "            xgb_model_file,\n",
    "            compress=3)"
   ]
  },
  {
   "cell_type": "markdown",
   "id": "638fe83a",
   "metadata": {},
   "source": [
    "## Test Set Validation"
   ]
  },
  {
   "cell_type": "code",
   "execution_count": 29,
   "id": "0dcf12ea",
   "metadata": {},
   "outputs": [],
   "source": [
    "# predict for the test set compounds\n",
    "pred_xgb = xgb.predict(x_ts)"
   ]
  },
  {
   "cell_type": "code",
   "execution_count": 30,
   "id": "0e5f09ad",
   "metadata": {},
   "outputs": [
    {
     "name": "stdout",
     "output_type": "stream",
     "text": [
      "Accuracy =  0.6666666666666666\n",
      "Balanced Accuracy Score =  0.6105769230769231\n",
      "MCC =  0.25215418055077093\n",
      "Kappa =  0.23834196891191706\n",
      "Recall =  0.8461538461538461\n"
     ]
    }
   ],
   "source": [
    "# calc statistics\n",
    "print(\"Accuracy = \", accuracy_score(y_ts, pred_xgb))\n",
    "print(\"Balanced Accuracy Score = \", balanced_accuracy_score(y_ts, pred_xgb))\n",
    "print(\"MCC = \", matthews_corrcoef(y_ts, pred_xgb))\n",
    "print(\"Kappa = \", cohen_kappa_score(y_ts, pred_xgb))\n",
    "print(\"Recall = \", recall_score(y_ts, pred_xgb))"
   ]
  },
  {
   "cell_type": "code",
   "execution_count": 31,
   "id": "7f4eb710",
   "metadata": {},
   "outputs": [
    {
     "data": {
      "text/plain": [
       "array([[ 6, 10],\n",
       "       [ 4, 22]])"
      ]
     },
     "execution_count": 31,
     "metadata": {},
     "output_type": "execute_result"
    }
   ],
   "source": [
    "# confusion matrix\n",
    "confusion_matrix(y_ts, pred_xgb)"
   ]
  },
  {
   "cell_type": "code",
   "execution_count": 32,
   "id": "a98b6cba",
   "metadata": {},
   "outputs": [
    {
     "data": {
      "text/plain": [
       "(6, 10, 4, 22)"
      ]
     },
     "execution_count": 32,
     "metadata": {},
     "output_type": "execute_result"
    }
   ],
   "source": [
    "tn, fp, fn, tp = confusion_matrix(y_ts, pred_xgb).ravel()\n",
    "tn, fp, fn, tp"
   ]
  },
  {
   "cell_type": "markdown",
   "id": "50c5812d",
   "metadata": {},
   "source": [
    "# Pipeline for making new predictions"
   ]
  },
  {
   "cell_type": "code",
   "execution_count": 37,
   "id": "ceb1c8b3",
   "metadata": {},
   "outputs": [
    {
     "data": {
      "text/html": [
       "<div>\n",
       "<style scoped>\n",
       "    .dataframe tbody tr th:only-of-type {\n",
       "        vertical-align: middle;\n",
       "    }\n",
       "\n",
       "    .dataframe tbody tr th {\n",
       "        vertical-align: top;\n",
       "    }\n",
       "\n",
       "    .dataframe thead th {\n",
       "        text-align: right;\n",
       "    }\n",
       "</style>\n",
       "<table border=\"1\" class=\"dataframe\">\n",
       "  <thead>\n",
       "    <tr style=\"text-align: right;\">\n",
       "      <th></th>\n",
       "      <th>smiles</th>\n",
       "      <th>id</th>\n",
       "    </tr>\n",
       "  </thead>\n",
       "  <tbody>\n",
       "    <tr>\n",
       "      <th>0</th>\n",
       "      <td>[H][C@]12C[C@@H](C(=O)N(CCCN(C)C)C(=O)NCC)CN(C...</td>\n",
       "      <td>Cabergoline</td>\n",
       "    </tr>\n",
       "    <tr>\n",
       "      <th>1</th>\n",
       "      <td>CN(C)CCCN1c2ccccc2Sc2ccc(Cl)cc21</td>\n",
       "      <td>Chlorpromazine</td>\n",
       "    </tr>\n",
       "    <tr>\n",
       "      <th>2</th>\n",
       "      <td>Fc1ccc(cc1)Cn2c5ccccc5nc2NC4CCN(CCc3ccc(OC)cc3...</td>\n",
       "      <td>Astemiszole</td>\n",
       "    </tr>\n",
       "  </tbody>\n",
       "</table>\n",
       "</div>"
      ],
      "text/plain": [
       "                                              smiles              id\n",
       "0  [H][C@]12C[C@@H](C(=O)N(CCCN(C)C)C(=O)NCC)CN(C...     Cabergoline\n",
       "1                   CN(C)CCCN1c2ccccc2Sc2ccc(Cl)cc21  Chlorpromazine\n",
       "2  Fc1ccc(cc1)Cn2c5ccccc5nc2NC4CCN(CCc3ccc(OC)cc3...     Astemiszole"
      ]
     },
     "execution_count": 37,
     "metadata": {},
     "output_type": "execute_result"
    }
   ],
   "source": [
    "predictor_model = joblib.load(xgb_model_file)\n",
    "smi_file = \"../smi_file.txt\"\n",
    "pred_example = pd.read_csv('example_drugs.txt')\n",
    "pred_example.head(3)"
   ]
  },
  {
   "cell_type": "code",
   "execution_count": 39,
   "id": "e9d2d378",
   "metadata": {},
   "outputs": [],
   "source": [
    "pred_mols = [Chem.MolFromSmiles(smi) for smi in pred_example.smiles]\n",
    "pred_fp = [AllChem.GetMorganFingerprintAsBitVect(m, 2) for m in pred_mols]\n",
    "pred_x = rdkit_fpconvert_numpy(pred_fp)\n",
    "\n",
    "pred_x = np.concatenate((pred_x, rdkit_get_physchem_descr(pred_mols)), axis=1)\n",
    "pred_x = scale.transform(pred_x)"
   ]
  },
  {
   "cell_type": "code",
   "execution_count": 40,
   "id": "1c131cb9",
   "metadata": {},
   "outputs": [
    {
     "data": {
      "text/plain": [
       "array([1, 1, 1, 0, 1])"
      ]
     },
     "execution_count": 40,
     "metadata": {},
     "output_type": "execute_result"
    }
   ],
   "source": [
    "pred_best_model = predictor_model.predict(pred_x)\n",
    "pred_best_model"
   ]
  },
  {
   "cell_type": "markdown",
   "id": "67a379f2",
   "metadata": {},
   "source": [
    "A prediction of 1 suggests a positive class label prediction and 0 a negative prediction"
   ]
  },
  {
   "cell_type": "code",
   "execution_count": null,
   "id": "adopted-disney",
   "metadata": {},
   "outputs": [],
   "source": []
  }
 ],
 "metadata": {
  "kernelspec": {
   "display_name": "Environment (conda_chembl_qsar)",
   "language": "python",
   "name": "conda_chembl_qsar"
  },
  "language_info": {
   "codemirror_mode": {
    "name": "ipython",
    "version": 3
   },
   "file_extension": ".py",
   "mimetype": "text/x-python",
   "name": "python",
   "nbconvert_exporter": "python",
   "pygments_lexer": "ipython3",
   "version": "3.8.13"
  },
  "vscode": {
   "interpreter": {
    "hash": "b2bb8ba4dbbd1922056eae260ebdf0a3570f5d6445cea652291a72b5d24d4404"
   }
  }
 },
 "nbformat": 4,
 "nbformat_minor": 5
}
