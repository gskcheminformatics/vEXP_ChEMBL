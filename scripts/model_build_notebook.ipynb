{
 "cells": [
  {
   "cell_type": "markdown",
   "id": "sweet-starter",
   "metadata": {},
   "source": [
    "# Model Building Setup for Safety Models using RdKit descriptors and ChEMBL31 data only"
   ]
  },
  {
   "attachments": {},
   "cell_type": "markdown",
   "id": "geological-niagara",
   "metadata": {},
   "source": [
    "# Setup"
   ]
  },
  {
   "cell_type": "code",
   "execution_count": null,
   "id": "18d83af2",
   "metadata": {},
   "outputs": [],
   "source": [
    "# input\n",
    "model_dir = \"ACHE_PIC50\"\n",
    "data_file_name = \"./ACHE_PIC50_train.tsv\"\n",
    "# output\n",
    "scalar_file_name = \"./scalar_ACHE_PIC50.pkl\"\n",
    "svm_model_file = \"./ACHE_PIC50_svm.pkl\"\n",
    "xgb_model_file = \"./ACHE_PIC50_xgb.pkl\""
   ]
  },
  {
   "cell_type": "code",
   "execution_count": 2,
   "id": "italian-sodium",
   "metadata": {},
   "outputs": [],
   "source": [
    "from rdkit import Chem, DataStructs\n",
    "from rdkit.Chem import AllChem, Descriptors\n",
    "import numpy as np\n",
    "import pandas as pd\n",
    "import joblib\n",
    "from sklearn.svm import SVC\n",
    "import xgboost\n",
    "from sklearn.model_selection import train_test_split, StratifiedKFold, GridSearchCV\n",
    "from sklearn.preprocessing import StandardScaler\n",
    "from sklearn.metrics import accuracy_score, cohen_kappa_score, matthews_corrcoef, confusion_matrix, balanced_accuracy_score, recall_score\n",
    "from scripts.utils import rdkit_fpconvert_numpy, rdkit_get_physchem_descr\n",
    "\n",
    "seed = 1234"
   ]
  },
  {
   "attachments": {},
   "cell_type": "markdown",
   "id": "dangerous-madrid",
   "metadata": {},
   "source": [
    "# Get Mols & Data then calculate descriptors"
   ]
  },
  {
   "cell_type": "code",
   "execution_count": 3,
   "id": "dramatic-wrong",
   "metadata": {},
   "outputs": [
    {
     "data": {
      "text/html": [
       "<div>\n",
       "<style scoped>\n",
       "    .dataframe tbody tr th:only-of-type {\n",
       "        vertical-align: middle;\n",
       "    }\n",
       "\n",
       "    .dataframe tbody tr th {\n",
       "        vertical-align: top;\n",
       "    }\n",
       "\n",
       "    .dataframe thead th {\n",
       "        text-align: right;\n",
       "    }\n",
       "</style>\n",
       "<table border=\"1\" class=\"dataframe\">\n",
       "  <thead>\n",
       "    <tr style=\"text-align: right;\">\n",
       "      <th></th>\n",
       "      <th>parentised_smiles</th>\n",
       "      <th>ID</th>\n",
       "      <th>class_label</th>\n",
       "    </tr>\n",
       "  </thead>\n",
       "  <tbody>\n",
       "    <tr>\n",
       "      <th>0</th>\n",
       "      <td>BrC1=C[C@@]2(CCC1=O)CC=NC1=C2C2=NCCc3c[nH]c(c2...</td>\n",
       "      <td>chembl_606</td>\n",
       "      <td>NEGATIVE</td>\n",
       "    </tr>\n",
       "    <tr>\n",
       "      <th>1</th>\n",
       "      <td>BrC1=C[C@@]23C[C@@H](NC4=C2C2=NCCc5c[nH]c(c25)...</td>\n",
       "      <td>chembl_2086</td>\n",
       "      <td>NEGATIVE</td>\n",
       "    </tr>\n",
       "    <tr>\n",
       "      <th>2</th>\n",
       "      <td>Brc1ccc(CN2C(=O)C(=O)c3cc(Br)ccc23)cc1</td>\n",
       "      <td>chembl_4127</td>\n",
       "      <td>POSITIVE</td>\n",
       "    </tr>\n",
       "    <tr>\n",
       "      <th>3</th>\n",
       "      <td>Brc1ccc(CN2CCN(CC2)c2nccc(NCc3ccccc3)n2)cc1</td>\n",
       "      <td>chembl_3003</td>\n",
       "      <td>NEGATIVE</td>\n",
       "    </tr>\n",
       "    <tr>\n",
       "      <th>4</th>\n",
       "      <td>Brc1ccc(CNC2CCN(Cc3ccccc3)C2)cc1</td>\n",
       "      <td>chembl_3482</td>\n",
       "      <td>POSITIVE</td>\n",
       "    </tr>\n",
       "  </tbody>\n",
       "</table>\n",
       "</div>"
      ],
      "text/plain": [
       "                                   parentised_smiles           ID class_label\n",
       "0  BrC1=C[C@@]2(CCC1=O)CC=NC1=C2C2=NCCc3c[nH]c(c2...   chembl_606    NEGATIVE\n",
       "1  BrC1=C[C@@]23C[C@@H](NC4=C2C2=NCCc5c[nH]c(c25)...  chembl_2086    NEGATIVE\n",
       "2             Brc1ccc(CN2C(=O)C(=O)c3cc(Br)ccc23)cc1  chembl_4127    POSITIVE\n",
       "3        Brc1ccc(CN2CCN(CC2)c2nccc(NCc3ccccc3)n2)cc1  chembl_3003    NEGATIVE\n",
       "4                   Brc1ccc(CNC2CCN(Cc3ccccc3)C2)cc1  chembl_3482    POSITIVE"
      ]
     },
     "execution_count": 3,
     "metadata": {},
     "output_type": "execute_result"
    }
   ],
   "source": [
    "df = pd.read_csv(data_file_name, sep=\"\\t\")\n",
    "df.head()"
   ]
  },
  {
   "cell_type": "code",
   "execution_count": 4,
   "id": "confident-assistant",
   "metadata": {},
   "outputs": [
    {
     "data": {
      "text/plain": [
       "class_label\n",
       "POSITIVE    3974\n",
       "NEGATIVE     971\n",
       "dtype: int64"
      ]
     },
     "execution_count": 4,
     "metadata": {},
     "output_type": "execute_result"
    }
   ],
   "source": [
    "df.value_counts(\"class_label\")"
   ]
  },
  {
   "cell_type": "code",
   "execution_count": 5,
   "id": "original-father",
   "metadata": {},
   "outputs": [],
   "source": [
    "# temp test to see why models failing\n",
    "#df = df.head(2000)\n",
    "#df"
   ]
  },
  {
   "cell_type": "markdown",
   "id": "sixth-opportunity",
   "metadata": {},
   "source": [
    "## Preparing descriptors and responses now"
   ]
  },
  {
   "cell_type": "code",
   "execution_count": 6,
   "id": "gothic-milwaukee",
   "metadata": {},
   "outputs": [],
   "source": [
    "y_str = df.class_label.tolist() # convert str to list\n",
    "y_int = pd.get_dummies(y_str) # one hot encode the str labels\n",
    "y_new = y_int[\"POSITIVE\"] # set new y to one hot encoded POSITIVE label column \n",
    "df['class_label_binary'] = y_new # set new encoded label into dataframe\n",
    "y = df.class_label_binary.to_list()"
   ]
  },
  {
   "cell_type": "code",
   "execution_count": 7,
   "id": "personalized-article",
   "metadata": {},
   "outputs": [
    {
     "data": {
      "text/html": [
       "<div>\n",
       "<style scoped>\n",
       "    .dataframe tbody tr th:only-of-type {\n",
       "        vertical-align: middle;\n",
       "    }\n",
       "\n",
       "    .dataframe tbody tr th {\n",
       "        vertical-align: top;\n",
       "    }\n",
       "\n",
       "    .dataframe thead th {\n",
       "        text-align: right;\n",
       "    }\n",
       "</style>\n",
       "<table border=\"1\" class=\"dataframe\">\n",
       "  <thead>\n",
       "    <tr style=\"text-align: right;\">\n",
       "      <th></th>\n",
       "      <th>parentised_smiles</th>\n",
       "      <th>ID</th>\n",
       "      <th>class_label</th>\n",
       "      <th>class_label_binary</th>\n",
       "    </tr>\n",
       "  </thead>\n",
       "  <tbody>\n",
       "    <tr>\n",
       "      <th>0</th>\n",
       "      <td>BrC1=C[C@@]2(CCC1=O)CC=NC1=C2C2=NCCc3c[nH]c(c2...</td>\n",
       "      <td>chembl_606</td>\n",
       "      <td>NEGATIVE</td>\n",
       "      <td>0</td>\n",
       "    </tr>\n",
       "    <tr>\n",
       "      <th>1</th>\n",
       "      <td>BrC1=C[C@@]23C[C@@H](NC4=C2C2=NCCc5c[nH]c(c25)...</td>\n",
       "      <td>chembl_2086</td>\n",
       "      <td>NEGATIVE</td>\n",
       "      <td>0</td>\n",
       "    </tr>\n",
       "    <tr>\n",
       "      <th>2</th>\n",
       "      <td>Brc1ccc(CN2C(=O)C(=O)c3cc(Br)ccc23)cc1</td>\n",
       "      <td>chembl_4127</td>\n",
       "      <td>POSITIVE</td>\n",
       "      <td>1</td>\n",
       "    </tr>\n",
       "  </tbody>\n",
       "</table>\n",
       "</div>"
      ],
      "text/plain": [
       "                                   parentised_smiles           ID class_label  \\\n",
       "0  BrC1=C[C@@]2(CCC1=O)CC=NC1=C2C2=NCCc3c[nH]c(c2...   chembl_606    NEGATIVE   \n",
       "1  BrC1=C[C@@]23C[C@@H](NC4=C2C2=NCCc5c[nH]c(c25)...  chembl_2086    NEGATIVE   \n",
       "2             Brc1ccc(CN2C(=O)C(=O)c3cc(Br)ccc23)cc1  chembl_4127    POSITIVE   \n",
       "\n",
       "   class_label_binary  \n",
       "0                   0  \n",
       "1                   0  \n",
       "2                   1  "
      ]
     },
     "execution_count": 7,
     "metadata": {},
     "output_type": "execute_result"
    }
   ],
   "source": [
    "df.head(3)"
   ]
  },
  {
   "cell_type": "code",
   "execution_count": null,
   "id": "warming-referral",
   "metadata": {},
   "outputs": [],
   "source": [
    "mols = [Chem.MolFromSmiles(smi) for smi in df.parentised_smiles]\n",
    "# generate binary Morgan fingerprint with radius 2\n",
    "fp = [AllChem.GetMorganFingerprintAsBitVect(m, 2) for m in mols]\n",
    "# generate binary Morgan fingerprint with radius 2 with physchem as numpy array\n",
    "x = rdkit_fpconvert_numpy(fp)\n",
    "x = np.concatenate((x, rdkit_get_physchem_descr(mols)), axis=1)"
   ]
  },
  {
   "cell_type": "markdown",
   "id": "marked-blogger",
   "metadata": {},
   "source": [
    "## Scale Data and Calculate Splits"
   ]
  },
  {
   "cell_type": "code",
   "execution_count": 9,
   "id": "major-lingerie",
   "metadata": {},
   "outputs": [],
   "source": [
    "# randomly select 20% of compounds as test set but with stratified selection\n",
    "x_tr, x_ts, y_tr, y_ts = train_test_split(x, y, test_size=0.20, random_state=seed, stratify=y)"
   ]
  },
  {
   "cell_type": "markdown",
   "id": "cardiovascular-allah",
   "metadata": {},
   "source": [
    "### Investigate size of splits to confirm"
   ]
  },
  {
   "cell_type": "code",
   "execution_count": 10,
   "id": "positive-champagne",
   "metadata": {},
   "outputs": [
    {
     "data": {
      "text/plain": [
       "(3956, 3956, 989, 989)"
      ]
     },
     "execution_count": 10,
     "metadata": {},
     "output_type": "execute_result"
    }
   ],
   "source": [
    "len(y_tr), len(x_tr), len(x_ts), len(y_ts)"
   ]
  },
  {
   "cell_type": "code",
   "execution_count": 11,
   "id": "seventh-folder",
   "metadata": {},
   "outputs": [],
   "source": [
    "scale = StandardScaler().fit(x_tr)\n",
    "x_tr = scale.transform(x_tr)\n",
    "# scale descriptors of the test set compounds\n",
    "x_ts = scale.transform(x_ts)"
   ]
  },
  {
   "cell_type": "code",
   "execution_count": 12,
   "id": "deluxe-rover",
   "metadata": {},
   "outputs": [
    {
     "data": {
      "text/plain": [
       "['./scalar_ACHE_PIC50.pkl']"
      ]
     },
     "execution_count": 12,
     "metadata": {},
     "output_type": "execute_result"
    }
   ],
   "source": [
    "# save scalar\n",
    "joblib.dump(scale, \n",
    "            scalar_file_name, \n",
    "            compress=3)"
   ]
  },
  {
   "cell_type": "code",
   "execution_count": 13,
   "id": "increased-float",
   "metadata": {},
   "outputs": [],
   "source": [
    "# cross validation splits\n",
    "cv = StratifiedKFold(n_splits=5)"
   ]
  },
  {
   "cell_type": "markdown",
   "id": "saving-iceland",
   "metadata": {},
   "source": [
    "# SVM Model"
   ]
  },
  {
   "cell_type": "markdown",
   "id": "combined-share",
   "metadata": {},
   "source": [
    "Search for optimal tuning parameters and build the model"
   ]
  },
  {
   "cell_type": "code",
   "execution_count": 14,
   "id": "expanded-surfing",
   "metadata": {},
   "outputs": [],
   "source": [
    "# create grid search dictionary\n",
    "param_grid = {\"C\": [10 ** i for i in range(0, 5)],\n",
    "              \"gamma\": [10 ** i for i in range(-6, 0)]}"
   ]
  },
  {
   "cell_type": "code",
   "execution_count": 15,
   "id": "pressing-lexington",
   "metadata": {},
   "outputs": [],
   "source": [
    "# setup model building\n",
    "svm = GridSearchCV(SVC(kernel='rbf', probability=True), param_grid, n_jobs=2, cv=cv, verbose=1)"
   ]
  },
  {
   "cell_type": "code",
   "execution_count": 16,
   "id": "extra-resolution",
   "metadata": {},
   "outputs": [
    {
     "name": "stdout",
     "output_type": "stream",
     "text": [
      "Fitting 5 folds for each of 30 candidates, totalling 150 fits\n"
     ]
    },
    {
     "data": {
      "text/plain": [
       "GridSearchCV(cv=StratifiedKFold(n_splits=5, random_state=None, shuffle=False),\n",
       "             estimator=SVC(probability=True), n_jobs=2,\n",
       "             param_grid={'C': [1, 10, 100, 1000, 10000],\n",
       "                         'gamma': [1e-06, 1e-05, 0.0001, 0.001, 0.01, 0.1]},\n",
       "             verbose=1)"
      ]
     },
     "execution_count": 16,
     "metadata": {},
     "output_type": "execute_result"
    }
   ],
   "source": [
    "# run model building\n",
    "svm.fit(x_tr, y_tr)"
   ]
  },
  {
   "cell_type": "code",
   "execution_count": 17,
   "id": "liberal-helping",
   "metadata": {},
   "outputs": [
    {
     "data": {
      "text/plain": [
       "0.8579403389137902"
      ]
     },
     "execution_count": 17,
     "metadata": {},
     "output_type": "execute_result"
    }
   ],
   "source": [
    "svm.best_score_"
   ]
  },
  {
   "cell_type": "code",
   "execution_count": 18,
   "id": "extensive-ideal",
   "metadata": {},
   "outputs": [
    {
     "data": {
      "text/plain": [
       "{'C': 10, 'gamma': 0.0001}"
      ]
     },
     "execution_count": 18,
     "metadata": {},
     "output_type": "execute_result"
    }
   ],
   "source": [
    "svm.best_params_"
   ]
  },
  {
   "cell_type": "code",
   "execution_count": 19,
   "id": "congressional-translation",
   "metadata": {},
   "outputs": [
    {
     "data": {
      "text/plain": [
       "['./ACHE_PIC50_svm.pkl']"
      ]
     },
     "execution_count": 19,
     "metadata": {},
     "output_type": "execute_result"
    }
   ],
   "source": [
    "# save model\n",
    "joblib.dump(svm, \n",
    "            svm_model_file,\n",
    "            compress=3)"
   ]
  },
  {
   "cell_type": "markdown",
   "id": "municipal-photographer",
   "metadata": {},
   "source": [
    "# Test Set Validation"
   ]
  },
  {
   "cell_type": "code",
   "execution_count": 20,
   "id": "every-restaurant",
   "metadata": {},
   "outputs": [],
   "source": [
    "# predict for the test set compounds\n",
    "pred_svm = svm.predict(x_ts)"
   ]
  },
  {
   "cell_type": "code",
   "execution_count": 21,
   "id": "dense-bangladesh",
   "metadata": {},
   "outputs": [
    {
     "name": "stdout",
     "output_type": "stream",
     "text": [
      "Accuracy =  0.8725985844287159\n",
      "Balanced Accuracy Score =  0.7687803929196655\n",
      "MCC =  0.5739355302194166\n",
      "Kappa =  0.5709327548806942\n",
      "Recall =  0.939622641509434\n",
      "Performance reported as average of matthews and recall is 0.7567790858644252\n"
     ]
    }
   ],
   "source": [
    "# calc statistics\n",
    "print(\"Accuracy = \", accuracy_score(y_ts, pred_svm))\n",
    "print(\"Balanced Accuracy Score = \", balanced_accuracy_score(y_ts, pred_svm))\n",
    "print(\"MCC = \", matthews_corrcoef(y_ts, pred_svm))\n",
    "print(\"Kappa = \", cohen_kappa_score(y_ts, pred_svm))\n",
    "print(\"Recall = \", recall_score(y_ts, pred_svm))\n",
    "print(\"Performance reported as average of matthews and recall is\", (((matthews_corrcoef(y_ts, pred_svm))+(recall_score(y_ts, pred_svm)))/2))"
   ]
  },
  {
   "cell_type": "code",
   "execution_count": 22,
   "id": "photographic-auckland",
   "metadata": {},
   "outputs": [
    {
     "data": {
      "text/plain": [
       "array([[116,  78],\n",
       "       [ 48, 747]])"
      ]
     },
     "execution_count": 22,
     "metadata": {},
     "output_type": "execute_result"
    }
   ],
   "source": [
    "# confusion matrix\n",
    "confusion_matrix(y_ts, pred_svm)"
   ]
  },
  {
   "cell_type": "code",
   "execution_count": 23,
   "id": "comfortable-square",
   "metadata": {},
   "outputs": [
    {
     "data": {
      "text/plain": [
       "(116, 78, 48, 747)"
      ]
     },
     "execution_count": 23,
     "metadata": {},
     "output_type": "execute_result"
    }
   ],
   "source": [
    "tn, fp, fn, tp = confusion_matrix(y_ts, pred_svm).ravel()\n",
    "tn, fp, fn, tp"
   ]
  },
  {
   "cell_type": "markdown",
   "id": "b5ac5546",
   "metadata": {},
   "source": [
    "# XGB Model"
   ]
  },
  {
   "cell_type": "code",
   "execution_count": 24,
   "id": "ee9d7d0e",
   "metadata": {},
   "outputs": [],
   "source": [
    "# create grid search dictionary\n",
    "param_grid = {\"max_depth\": [i for i in range(2, 8)],\n",
    "              \"n_estimators\": [i for i in [10, 30, 50, 100]],\n",
    "              \"learning_rate\": [i for i in [0.01, 0.05, 0.1]]}"
   ]
  },
  {
   "cell_type": "code",
   "execution_count": 25,
   "id": "9846cad5",
   "metadata": {},
   "outputs": [],
   "source": [
    "# setup model building\n",
    "xgb = GridSearchCV(xgboost.XGBClassifier(base_score=0.5), param_grid, n_jobs=2, cv=cv, verbose=1)"
   ]
  },
  {
   "cell_type": "code",
   "execution_count": 26,
   "id": "8caa98cd",
   "metadata": {},
   "outputs": [
    {
     "name": "stdout",
     "output_type": "stream",
     "text": [
      "Fitting 5 folds for each of 72 candidates, totalling 360 fits\n"
     ]
    },
    {
     "data": {
      "text/plain": [
       "GridSearchCV(cv=StratifiedKFold(n_splits=5, random_state=None, shuffle=False),\n",
       "             estimator=XGBClassifier(base_score=0.5, booster=None,\n",
       "                                     callbacks=None, colsample_bylevel=None,\n",
       "                                     colsample_bynode=None,\n",
       "                                     colsample_bytree=None, device=None,\n",
       "                                     early_stopping_rounds=None,\n",
       "                                     enable_categorical=False, eval_metric=None,\n",
       "                                     feature_types=None, gamma=None,\n",
       "                                     grow_policy=None, importance_t...\n",
       "                                     max_cat_to_onehot=None,\n",
       "                                     max_delta_step=None, max_depth=None,\n",
       "                                     max_leaves=None, min_child_weight=None,\n",
       "                                     missing=nan, monotone_constraints=None,\n",
       "                                     multi_strategy=None, n_estimators=None,\n",
       "                                     n_jobs=None, num_parallel_tree=None,\n",
       "                                     random_state=None, ...),\n",
       "             n_jobs=2,\n",
       "             param_grid={'learning_rate': [0.01, 0.05, 0.1],\n",
       "                         'max_depth': [2, 3, 4, 5, 6, 7],\n",
       "                         'n_estimators': [10, 30, 50, 100]},\n",
       "             verbose=1)"
      ]
     },
     "execution_count": 26,
     "metadata": {},
     "output_type": "execute_result"
    }
   ],
   "source": [
    "# run model building\n",
    "xgb.fit(x_tr, y_tr)"
   ]
  },
  {
   "cell_type": "code",
   "execution_count": 27,
   "id": "26e55dde",
   "metadata": {},
   "outputs": [
    {
     "data": {
      "text/plain": [
       "0.8614760116972506"
      ]
     },
     "execution_count": 27,
     "metadata": {},
     "output_type": "execute_result"
    }
   ],
   "source": [
    "xgb.best_score_"
   ]
  },
  {
   "cell_type": "code",
   "execution_count": 28,
   "id": "f27b72ee",
   "metadata": {},
   "outputs": [
    {
     "data": {
      "text/plain": [
       "{'learning_rate': 0.1, 'max_depth': 7, 'n_estimators': 100}"
      ]
     },
     "execution_count": 28,
     "metadata": {},
     "output_type": "execute_result"
    }
   ],
   "source": [
    "xgb.best_params_"
   ]
  },
  {
   "cell_type": "code",
   "execution_count": 29,
   "id": "6723e382",
   "metadata": {},
   "outputs": [
    {
     "data": {
      "text/plain": [
       "['./ACHE_PIC50_xgb.pkl']"
      ]
     },
     "execution_count": 29,
     "metadata": {},
     "output_type": "execute_result"
    }
   ],
   "source": [
    "# save model\n",
    "joblib.dump(xgb, \n",
    "            xgb_model_file,\n",
    "            compress=3)"
   ]
  },
  {
   "cell_type": "markdown",
   "id": "638fe83a",
   "metadata": {},
   "source": [
    "## Test Set Validation"
   ]
  },
  {
   "cell_type": "code",
   "execution_count": 30,
   "id": "0dcf12ea",
   "metadata": {},
   "outputs": [],
   "source": [
    "# predict for the test set compounds\n",
    "pred_xgb = xgb.predict(x_ts)"
   ]
  },
  {
   "cell_type": "code",
   "execution_count": null,
   "id": "0e5f09ad",
   "metadata": {},
   "outputs": [],
   "source": [
    "# calc statistics\n",
    "print(\"Accuracy = \", accuracy_score(y_ts, pred_xgb))\n",
    "print(\"Balanced Accuracy Score = \", balanced_accuracy_score(y_ts, pred_xgb))\n",
    "print(\"MCC = \", matthews_corrcoef(y_ts, pred_xgb))\n",
    "print(\"Kappa = \", cohen_kappa_score(y_ts, pred_xgb))\n",
    "print(\"Recall = \", recall_score(y_ts, pred_xgb))"
   ]
  },
  {
   "cell_type": "code",
   "execution_count": 32,
   "id": "7f4eb710",
   "metadata": {},
   "outputs": [
    {
     "data": {
      "text/plain": [
       "array([[ 89, 105],\n",
       "       [ 28, 767]])"
      ]
     },
     "execution_count": 32,
     "metadata": {},
     "output_type": "execute_result"
    }
   ],
   "source": [
    "# confusion matrix\n",
    "confusion_matrix(y_ts, pred_xgb)"
   ]
  },
  {
   "cell_type": "code",
   "execution_count": 33,
   "id": "a98b6cba",
   "metadata": {},
   "outputs": [
    {
     "data": {
      "text/plain": [
       "(89, 105, 28, 767)"
      ]
     },
     "execution_count": 33,
     "metadata": {},
     "output_type": "execute_result"
    }
   ],
   "source": [
    "tn, fp, fn, tp = confusion_matrix(y_ts, pred_xgb).ravel()\n",
    "tn, fp, fn, tp"
   ]
  },
  {
   "cell_type": "markdown",
   "id": "50c5812d",
   "metadata": {},
   "source": [
    "# Pipeline for making new predictions"
   ]
  },
  {
   "cell_type": "code",
   "execution_count": 36,
   "id": "ceb1c8b3",
   "metadata": {},
   "outputs": [
    {
     "data": {
      "text/html": [
       "<div>\n",
       "<style scoped>\n",
       "    .dataframe tbody tr th:only-of-type {\n",
       "        vertical-align: middle;\n",
       "    }\n",
       "\n",
       "    .dataframe tbody tr th {\n",
       "        vertical-align: top;\n",
       "    }\n",
       "\n",
       "    .dataframe thead th {\n",
       "        text-align: right;\n",
       "    }\n",
       "</style>\n",
       "<table border=\"1\" class=\"dataframe\">\n",
       "  <thead>\n",
       "    <tr style=\"text-align: right;\">\n",
       "      <th></th>\n",
       "      <th>smiles</th>\n",
       "      <th>id</th>\n",
       "    </tr>\n",
       "  </thead>\n",
       "  <tbody>\n",
       "    <tr>\n",
       "      <th>0</th>\n",
       "      <td>c1ccccc1</td>\n",
       "      <td>example_0</td>\n",
       "    </tr>\n",
       "    <tr>\n",
       "      <th>1</th>\n",
       "      <td>c1ccccc1(C(=O)NCC)</td>\n",
       "      <td>example_1</td>\n",
       "    </tr>\n",
       "    <tr>\n",
       "      <th>2</th>\n",
       "      <td>c1cc(OC)ccn1</td>\n",
       "      <td>example_2</td>\n",
       "    </tr>\n",
       "  </tbody>\n",
       "</table>\n",
       "</div>"
      ],
      "text/plain": [
       "               smiles       id  \n",
       "0            c1ccccc1  example_0\n",
       "1  c1ccccc1(C(=O)NCC)  example_1\n",
       "2        c1cc(OC)ccn1  example_2"
      ]
     },
     "execution_count": 36,
     "metadata": {},
     "output_type": "execute_result"
    }
   ],
   "source": [
    "predictor_model = joblib.load(best_model)\n",
    "smi_file = \"../smi_file.txt\"\n",
    "pred_example = pd.read_csv(smi_file)\n",
    "pred_example.head(3)"
   ]
  },
  {
   "cell_type": "code",
   "execution_count": 37,
   "id": "e9d2d378",
   "metadata": {},
   "outputs": [],
   "source": [
    "pred_mols = [Chem.MolFromSmiles(smi) for smi in pred_example.smiles]\n",
    "pred_fp = [AllChem.GetMorganFingerprintAsBitVect(m, 2) for m in mols]\n",
    "pred_x = rdkit_fpconvert_numpy(pred_fp)\n",
    "\n",
    "x = np.concatenate((x, rdkit_get_physchem_descr(mols)), axis=1)\n",
    "x = scale.transform(x)"
   ]
  },
  {
   "cell_type": "code",
   "execution_count": 38,
   "id": "1c131cb9",
   "metadata": {},
   "outputs": [
    {
     "data": {
      "text/plain": [
       "array([1, 1, 1])"
      ]
     },
     "execution_count": 38,
     "metadata": {},
     "output_type": "execute_result"
    }
   ],
   "source": [
    "pred_best_model = predictor_model.predict(x)\n",
    "pred_best_model"
   ]
  },
  {
   "cell_type": "markdown",
   "id": "67a379f2",
   "metadata": {},
   "source": [
    "A prediction of 1 suggests a positive class label prediction and 0 a negative prediction"
   ]
  }
 ],
 "metadata": {
  "kernelspec": {
   "display_name": "Python 3.8.13",
   "language": "python",
   "name": "python3"
  },
  "language_info": {
   "codemirror_mode": {
    "name": "ipython",
    "version": 3
   },
   "file_extension": ".py",
   "mimetype": "text/x-python",
   "name": "python",
   "nbconvert_exporter": "python",
   "pygments_lexer": "ipython3",
   "version": "3.8.13"
  },
  "vscode": {
   "interpreter": {
    "hash": "b2bb8ba4dbbd1922056eae260ebdf0a3570f5d6445cea652291a72b5d24d4404"
   }
  }
 },
 "nbformat": 4,
 "nbformat_minor": 5
}
